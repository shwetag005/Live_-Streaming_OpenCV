{
 "cells": [
  {
   "cell_type": "code",
   "execution_count": null,
   "id": "672652f3",
   "metadata": {},
   "outputs": [],
   "source": [
    "import socket\n",
    "import cv2\n",
    "import pickle\n",
    "import struct"
   ]
  },
  {
   "cell_type": "code",
   "execution_count": null,
   "id": "f00fa88a",
   "metadata": {},
   "outputs": [],
   "source": [
    "client_socket = socket.socket(socket.AF_INET, socket.SOCK_STREAM)\n",
    "host_ip = '192.168.43.25'\n",
    "port = 9999"
   ]
  },
  {
   "cell_type": "code",
   "execution_count": null,
   "id": "551549ea",
   "metadata": {},
   "outputs": [],
   "source": [
    "client_socket.connect((host_ip, port))\n",
    "data = b\"\"\n",
    "payload_size = struct.calcsize(\"Q\")"
   ]
  },
  {
   "cell_type": "code",
   "execution_count": null,
   "id": "6280d297",
   "metadata": {},
   "outputs": [],
   "source": [
    "while True:\n",
    "    while len(data) < payload_size:\n",
    "        packet = client_socket.recv(4 * 1024)\n",
    "        if not packet: break\n",
    "        data += packet\n",
    "    packed_msg_size = data[:payload_size]\n",
    "    data = data[payload_size:]\n",
    "    msg_size = struct.unpack(\"Q\", packed_msg_size)[0]\n",
    "\n",
    "    while len(data) < msg_size:\n",
    "        data += client_socket.recv(4 * 1024)\n",
    "    frame_data = data[:msg_size]\n",
    "    data = data[msg_size:]\n",
    "    frame = pickle.loads(frame_data)\n",
    "    cv2.imshow(\"RECEIVING VIDEO\", frame)\n",
    "    key = cv2.waitKey(13)  & 0xFF\n",
    "    if key == ord('q'):\n",
    "        break\n",
    "client_socket.close()\n"
   ]
  }
 ],
 "metadata": {
  "kernelspec": {
   "display_name": "Python 3",
   "language": "python",
   "name": "python3"
  },
  "language_info": {
   "codemirror_mode": {
    "name": "ipython",
    "version": 3
   },
   "file_extension": ".py",
   "mimetype": "text/x-python",
   "name": "python",
   "nbconvert_exporter": "python",
   "pygments_lexer": "ipython3",
   "version": "3.9.4"
  }
 },
 "nbformat": 4,
 "nbformat_minor": 5
}

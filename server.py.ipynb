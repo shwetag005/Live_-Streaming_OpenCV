{
 "cells": [
  {
   "cell_type": "code",
   "execution_count": null,
   "id": "bc495690",
   "metadata": {},
   "outputs": [],
   "source": [
    "import socket\n",
    "import cv2\n",
    "import pickle\n",
    "import struct"
   ]
  },
  {
   "cell_type": "code",
   "execution_count": null,
   "id": "cbed4af5",
   "metadata": {},
   "outputs": [],
   "source": [
    "# Socket Create\n",
    "server_socket = socket.socket(socket.AF_INET, socket.SOCK_STREAM)\n",
    "host_name = socket.gethostname()\n",
    "host_ip = socket.gethostbyname(host_name)\n",
    "print('HOST IP:', host_ip)\n",
    "port = 9999\n",
    "socket_address = ('192.168.43.25', port)"
   ]
  },
  {
   "cell_type": "code",
   "execution_count": null,
   "id": "e95f673c",
   "metadata": {},
   "outputs": [],
   "source": [
    "# Socket Bind\n",
    "server_socket.bind(socket_address)\n"
   ]
  },
  {
   "cell_type": "code",
   "execution_count": null,
   "id": "0359110c",
   "metadata": {},
   "outputs": [],
   "source": [
    "# Socket Listen\n",
    "server_socket.listen(5)\n",
    "print(\"LISTENING AT:\", socket_address)\n"
   ]
  },
  {
   "cell_type": "code",
   "execution_count": null,
   "id": "e5e405c7",
   "metadata": {},
   "outputs": [],
   "source": [
    "# Socket Accept\n",
    "while True:\n",
    "    client_socket, addr = server_socket.accept()\n",
    "    print('GOT CONNECTION FROM:', addr)\n",
    "    if client_socket:\n",
    "        vid = cv2.VideoCapture(0)\n",
    "\n",
    "        while (vid.isOpened()):\n",
    "            img, frame = vid.read()\n",
    "            a = pickle.dumps(frame)\n",
    "            message = struct.pack(\"Q\", len(a)) + a\n",
    "            client_socket.sendall(message)\n",
    "\n",
    "            cv2.imshow('TRANSMITTING VIDEO', frame)\n",
    "            key = cv2.waitKey(13) & 0xFF\n",
    "            if key == ord('q'):\n",
    "                client_socket.close()"
   ]
  }
 ],
 "metadata": {
  "kernelspec": {
   "display_name": "Python 3",
   "language": "python",
   "name": "python3"
  },
  "language_info": {
   "codemirror_mode": {
    "name": "ipython",
    "version": 3
   },
   "file_extension": ".py",
   "mimetype": "text/x-python",
   "name": "python",
   "nbconvert_exporter": "python",
   "pygments_lexer": "ipython3",
   "version": "3.9.4"
  }
 },
 "nbformat": 4,
 "nbformat_minor": 5
}
